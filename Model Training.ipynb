{
 "cells": [
  {
   "cell_type": "code",
   "execution_count": 50,
   "id": "4ad32ed5-b6e6-427c-98c2-4e718b464827",
   "metadata": {},
   "outputs": [],
   "source": [
    "import pandas as pd\n"
   ]
  },
  {
   "cell_type": "code",
   "execution_count": 51,
   "id": "fb155078-f122-49c3-ac4e-d9dbee08d8a4",
   "metadata": {},
   "outputs": [],
   "source": [
    "df = pd.read_csv(\"spotify_millsongdata.csv\")"
   ]
  },
  {
   "cell_type": "code",
   "execution_count": 53,
   "id": "a2020dc7-6951-48b2-99f9-feda83922f36",
   "metadata": {},
   "outputs": [
    {
     "data": {
      "text/html": [
       "<div>\n",
       "<style scoped>\n",
       "    .dataframe tbody tr th:only-of-type {\n",
       "        vertical-align: middle;\n",
       "    }\n",
       "\n",
       "    .dataframe tbody tr th {\n",
       "        vertical-align: top;\n",
       "    }\n",
       "\n",
       "    .dataframe thead th {\n",
       "        text-align: right;\n",
       "    }\n",
       "</style>\n",
       "<table border=\"1\" class=\"dataframe\">\n",
       "  <thead>\n",
       "    <tr style=\"text-align: right;\">\n",
       "      <th></th>\n",
       "      <th>artist</th>\n",
       "      <th>song</th>\n",
       "      <th>link</th>\n",
       "      <th>text</th>\n",
       "    </tr>\n",
       "  </thead>\n",
       "  <tbody>\n",
       "    <tr>\n",
       "      <th>0</th>\n",
       "      <td>ABBA</td>\n",
       "      <td>Ahe's My Kind Of Girl</td>\n",
       "      <td>/a/abba/ahes+my+kind+of+girl_20598417.html</td>\n",
       "      <td>Look at her face, it's a wonderful face  \\r\\nA...</td>\n",
       "    </tr>\n",
       "    <tr>\n",
       "      <th>1</th>\n",
       "      <td>ABBA</td>\n",
       "      <td>Andante, Andante</td>\n",
       "      <td>/a/abba/andante+andante_20002708.html</td>\n",
       "      <td>Take it easy with me, please  \\r\\nTouch me gen...</td>\n",
       "    </tr>\n",
       "    <tr>\n",
       "      <th>2</th>\n",
       "      <td>ABBA</td>\n",
       "      <td>As Good As New</td>\n",
       "      <td>/a/abba/as+good+as+new_20003033.html</td>\n",
       "      <td>I'll never know why I had to go  \\r\\nWhy I had...</td>\n",
       "    </tr>\n",
       "    <tr>\n",
       "      <th>3</th>\n",
       "      <td>ABBA</td>\n",
       "      <td>Bang</td>\n",
       "      <td>/a/abba/bang_20598415.html</td>\n",
       "      <td>Making somebody happy is a question of give an...</td>\n",
       "    </tr>\n",
       "    <tr>\n",
       "      <th>4</th>\n",
       "      <td>ABBA</td>\n",
       "      <td>Bang-A-Boomerang</td>\n",
       "      <td>/a/abba/bang+a+boomerang_20002668.html</td>\n",
       "      <td>Making somebody happy is a question of give an...</td>\n",
       "    </tr>\n",
       "  </tbody>\n",
       "</table>\n",
       "</div>"
      ],
      "text/plain": [
       "  artist                   song                                        link  \\\n",
       "0   ABBA  Ahe's My Kind Of Girl  /a/abba/ahes+my+kind+of+girl_20598417.html   \n",
       "1   ABBA       Andante, Andante       /a/abba/andante+andante_20002708.html   \n",
       "2   ABBA         As Good As New        /a/abba/as+good+as+new_20003033.html   \n",
       "3   ABBA                   Bang                  /a/abba/bang_20598415.html   \n",
       "4   ABBA       Bang-A-Boomerang      /a/abba/bang+a+boomerang_20002668.html   \n",
       "\n",
       "                                                text  \n",
       "0  Look at her face, it's a wonderful face  \\r\\nA...  \n",
       "1  Take it easy with me, please  \\r\\nTouch me gen...  \n",
       "2  I'll never know why I had to go  \\r\\nWhy I had...  \n",
       "3  Making somebody happy is a question of give an...  \n",
       "4  Making somebody happy is a question of give an...  "
      ]
     },
     "execution_count": 53,
     "metadata": {},
     "output_type": "execute_result"
    }
   ],
   "source": [
    "df.head(5)"
   ]
  },
  {
   "cell_type": "code",
   "execution_count": 54,
   "id": "6805e42b-07d6-4a1f-b9b5-ec130360e551",
   "metadata": {},
   "outputs": [
    {
     "data": {
      "text/html": [
       "<div>\n",
       "<style scoped>\n",
       "    .dataframe tbody tr th:only-of-type {\n",
       "        vertical-align: middle;\n",
       "    }\n",
       "\n",
       "    .dataframe tbody tr th {\n",
       "        vertical-align: top;\n",
       "    }\n",
       "\n",
       "    .dataframe thead th {\n",
       "        text-align: right;\n",
       "    }\n",
       "</style>\n",
       "<table border=\"1\" class=\"dataframe\">\n",
       "  <thead>\n",
       "    <tr style=\"text-align: right;\">\n",
       "      <th></th>\n",
       "      <th>artist</th>\n",
       "      <th>song</th>\n",
       "      <th>link</th>\n",
       "      <th>text</th>\n",
       "    </tr>\n",
       "  </thead>\n",
       "  <tbody>\n",
       "    <tr>\n",
       "      <th>57645</th>\n",
       "      <td>Ziggy Marley</td>\n",
       "      <td>Good Old Days</td>\n",
       "      <td>/z/ziggy+marley/good+old+days_10198588.html</td>\n",
       "      <td>Irie days come on play  \\r\\nLet the angels fly...</td>\n",
       "    </tr>\n",
       "    <tr>\n",
       "      <th>57646</th>\n",
       "      <td>Ziggy Marley</td>\n",
       "      <td>Hand To Mouth</td>\n",
       "      <td>/z/ziggy+marley/hand+to+mouth_20531167.html</td>\n",
       "      <td>Power to the workers  \\r\\nMore power  \\r\\nPowe...</td>\n",
       "    </tr>\n",
       "    <tr>\n",
       "      <th>57647</th>\n",
       "      <td>Zwan</td>\n",
       "      <td>Come With Me</td>\n",
       "      <td>/z/zwan/come+with+me_20148981.html</td>\n",
       "      <td>all you need  \\r\\nis something i'll believe  \\...</td>\n",
       "    </tr>\n",
       "    <tr>\n",
       "      <th>57648</th>\n",
       "      <td>Zwan</td>\n",
       "      <td>Desire</td>\n",
       "      <td>/z/zwan/desire_20148986.html</td>\n",
       "      <td>northern star  \\r\\nam i frightened  \\r\\nwhere ...</td>\n",
       "    </tr>\n",
       "    <tr>\n",
       "      <th>57649</th>\n",
       "      <td>Zwan</td>\n",
       "      <td>Heartsong</td>\n",
       "      <td>/z/zwan/heartsong_20148991.html</td>\n",
       "      <td>come in  \\r\\nmake yourself at home  \\r\\ni'm a ...</td>\n",
       "    </tr>\n",
       "  </tbody>\n",
       "</table>\n",
       "</div>"
      ],
      "text/plain": [
       "             artist           song  \\\n",
       "57645  Ziggy Marley  Good Old Days   \n",
       "57646  Ziggy Marley  Hand To Mouth   \n",
       "57647          Zwan   Come With Me   \n",
       "57648          Zwan         Desire   \n",
       "57649          Zwan      Heartsong   \n",
       "\n",
       "                                              link  \\\n",
       "57645  /z/ziggy+marley/good+old+days_10198588.html   \n",
       "57646  /z/ziggy+marley/hand+to+mouth_20531167.html   \n",
       "57647           /z/zwan/come+with+me_20148981.html   \n",
       "57648                 /z/zwan/desire_20148986.html   \n",
       "57649              /z/zwan/heartsong_20148991.html   \n",
       "\n",
       "                                                    text  \n",
       "57645  Irie days come on play  \\r\\nLet the angels fly...  \n",
       "57646  Power to the workers  \\r\\nMore power  \\r\\nPowe...  \n",
       "57647  all you need  \\r\\nis something i'll believe  \\...  \n",
       "57648  northern star  \\r\\nam i frightened  \\r\\nwhere ...  \n",
       "57649  come in  \\r\\nmake yourself at home  \\r\\ni'm a ...  "
      ]
     },
     "execution_count": 54,
     "metadata": {},
     "output_type": "execute_result"
    }
   ],
   "source": [
    "df.tail(5)"
   ]
  },
  {
   "cell_type": "code",
   "execution_count": 55,
   "id": "81fbef33-5922-41df-93c6-7778790e52f8",
   "metadata": {},
   "outputs": [
    {
     "data": {
      "text/plain": [
       "(57650, 4)"
      ]
     },
     "execution_count": 55,
     "metadata": {},
     "output_type": "execute_result"
    }
   ],
   "source": [
    "df.shape\n"
   ]
  },
  {
   "cell_type": "code",
   "execution_count": 56,
   "id": "30635a02-64d9-41d1-ad60-43e851cb7670",
   "metadata": {},
   "outputs": [
    {
     "data": {
      "text/plain": [
       "artist    0\n",
       "song      0\n",
       "link      0\n",
       "text      0\n",
       "dtype: int64"
      ]
     },
     "execution_count": 56,
     "metadata": {},
     "output_type": "execute_result"
    }
   ],
   "source": [
    "df.isnull().sum()"
   ]
  },
  {
   "cell_type": "code",
   "execution_count": 57,
   "id": "36dc8333-9167-4c94-81a7-a7a2233bb9a5",
   "metadata": {},
   "outputs": [],
   "source": [
    "df =df.sample(5000).drop('link', axis=1).reset_index(drop=True)"
   ]
  },
  {
   "cell_type": "code",
   "execution_count": 58,
   "id": "e7665502-3a29-4594-a3f7-450f5349d51b",
   "metadata": {},
   "outputs": [
    {
     "data": {
      "text/html": [
       "<div>\n",
       "<style scoped>\n",
       "    .dataframe tbody tr th:only-of-type {\n",
       "        vertical-align: middle;\n",
       "    }\n",
       "\n",
       "    .dataframe tbody tr th {\n",
       "        vertical-align: top;\n",
       "    }\n",
       "\n",
       "    .dataframe thead th {\n",
       "        text-align: right;\n",
       "    }\n",
       "</style>\n",
       "<table border=\"1\" class=\"dataframe\">\n",
       "  <thead>\n",
       "    <tr style=\"text-align: right;\">\n",
       "      <th></th>\n",
       "      <th>artist</th>\n",
       "      <th>song</th>\n",
       "      <th>text</th>\n",
       "    </tr>\n",
       "  </thead>\n",
       "  <tbody>\n",
       "    <tr>\n",
       "      <th>0</th>\n",
       "      <td>Passenger</td>\n",
       "      <td>Divers And Submarines</td>\n",
       "      <td>Well I clung to you,  \\r\\nLike cat hair clings...</td>\n",
       "    </tr>\n",
       "    <tr>\n",
       "      <th>1</th>\n",
       "      <td>Stone Temple Pilots</td>\n",
       "      <td>Long Way Home</td>\n",
       "      <td>Leave me out, get away  \\r\\nI gotta go a long ...</td>\n",
       "    </tr>\n",
       "    <tr>\n",
       "      <th>2</th>\n",
       "      <td>Yellowcard</td>\n",
       "      <td>Two Weeks From Twenty</td>\n",
       "      <td>Jimmy wasn't really popular  \\r\\nHe had a coup...</td>\n",
       "    </tr>\n",
       "    <tr>\n",
       "      <th>3</th>\n",
       "      <td>Jackson Browne</td>\n",
       "      <td>Cocaine</td>\n",
       "      <td>You take Sally and I'll take Sue  \\r\\nThere ai...</td>\n",
       "    </tr>\n",
       "    <tr>\n",
       "      <th>4</th>\n",
       "      <td>Foo Fighters</td>\n",
       "      <td>Stranger Things Have Happened</td>\n",
       "      <td>Goddamn this dusty room  \\r\\nThis hazy afterno...</td>\n",
       "    </tr>\n",
       "    <tr>\n",
       "      <th>5</th>\n",
       "      <td>Flo-Rida</td>\n",
       "      <td>Jump</td>\n",
       "      <td>[Chorus: Nelly Furtado]  \\r\\nWhen I say jump, ...</td>\n",
       "    </tr>\n",
       "    <tr>\n",
       "      <th>6</th>\n",
       "      <td>Scorpions</td>\n",
       "      <td>Life's Like A River</td>\n",
       "      <td>As years are passing by  \\r\\nSilence becomes y...</td>\n",
       "    </tr>\n",
       "    <tr>\n",
       "      <th>7</th>\n",
       "      <td>Grand Funk Railroad</td>\n",
       "      <td>People, Let's Stop The War</td>\n",
       "      <td>Ooo, ooo, ooo, ooo-ooo, ooo, ooo, ooo  \\r\\n  \\...</td>\n",
       "    </tr>\n",
       "    <tr>\n",
       "      <th>8</th>\n",
       "      <td>Boney M.</td>\n",
       "      <td>I Shall Sing</td>\n",
       "      <td>I shall sing, sing my song  \\r\\nBe it right, b...</td>\n",
       "    </tr>\n",
       "    <tr>\n",
       "      <th>9</th>\n",
       "      <td>Cyndi Lauper</td>\n",
       "      <td>Mother</td>\n",
       "      <td>Over land and over sea  \\r\\nShe reaches out to...</td>\n",
       "    </tr>\n",
       "  </tbody>\n",
       "</table>\n",
       "</div>"
      ],
      "text/plain": [
       "                artist                           song  \\\n",
       "0            Passenger          Divers And Submarines   \n",
       "1  Stone Temple Pilots                  Long Way Home   \n",
       "2           Yellowcard          Two Weeks From Twenty   \n",
       "3       Jackson Browne                        Cocaine   \n",
       "4         Foo Fighters  Stranger Things Have Happened   \n",
       "5             Flo-Rida                           Jump   \n",
       "6            Scorpions            Life's Like A River   \n",
       "7  Grand Funk Railroad     People, Let's Stop The War   \n",
       "8             Boney M.                   I Shall Sing   \n",
       "9         Cyndi Lauper                         Mother   \n",
       "\n",
       "                                                text  \n",
       "0  Well I clung to you,  \\r\\nLike cat hair clings...  \n",
       "1  Leave me out, get away  \\r\\nI gotta go a long ...  \n",
       "2  Jimmy wasn't really popular  \\r\\nHe had a coup...  \n",
       "3  You take Sally and I'll take Sue  \\r\\nThere ai...  \n",
       "4  Goddamn this dusty room  \\r\\nThis hazy afterno...  \n",
       "5  [Chorus: Nelly Furtado]  \\r\\nWhen I say jump, ...  \n",
       "6  As years are passing by  \\r\\nSilence becomes y...  \n",
       "7  Ooo, ooo, ooo, ooo-ooo, ooo, ooo, ooo  \\r\\n  \\...  \n",
       "8  I shall sing, sing my song  \\r\\nBe it right, b...  \n",
       "9  Over land and over sea  \\r\\nShe reaches out to...  "
      ]
     },
     "execution_count": 58,
     "metadata": {},
     "output_type": "execute_result"
    }
   ],
   "source": [
    "df.head(10)"
   ]
  },
  {
   "cell_type": "code",
   "execution_count": 59,
   "id": "0c38d779-b804-4806-a1f9-e8e930746863",
   "metadata": {},
   "outputs": [
    {
     "data": {
      "text/plain": [
       "\"Well I clung to you,  \\r\\nLike cat hair clings to a woolen shirt  \\r\\nYou needed me, like a wedding dress needs dirt  \\r\\nThe more that I wanted, the harder I squeezed  \\r\\nThe harder I squeezed, the less you could breathe  \\r\\nAnd we sunk down to the bottom  \\r\\nYeah, we sunk down to the bottom of the sea  \\r\\nYeah, we sunk down to the bottom of the sea  \\r\\n  \\r\\nAnd I cried for you,  \\r\\nLike a widow cries at her lover's grave  \\r\\nYou haunted me through my stinging nights,  \\r\\nAnd aching days  \\r\\nThe more that you struggled, the tighter the knots,  \\r\\nThe tighter the knots, the lower we got  \\r\\n  \\r\\nAnd we sunk down to the bottom  \\r\\nYeah, we sunk down to the bottom of the sea  \\r\\nYeah, we sunk down to the bottom of the sea  \\r\\nYeah, we sunk down to the bottom of the sea  \\r\\nOh no,  \\r\\n'Cause I saw divers and submarines  \\r\\nAnd I saw divers and submarines  \\r\\nOh, I saw divers and submarines\\r\\n\\r\\n\""
      ]
     },
     "execution_count": 59,
     "metadata": {},
     "output_type": "execute_result"
    }
   ],
   "source": [
    "df['text'][0]"
   ]
  },
  {
   "cell_type": "code",
   "execution_count": 14,
   "id": "bb75806e-32b1-4f59-9f5b-cd371b350498",
   "metadata": {},
   "outputs": [],
   "source": []
  },
  {
   "cell_type": "code",
   "execution_count": 60,
   "id": "71bdc51d-07be-43e4-9ff1-55b7feae7bb4",
   "metadata": {},
   "outputs": [
    {
     "data": {
      "text/plain": [
       "(5000, 3)"
      ]
     },
     "execution_count": 60,
     "metadata": {},
     "output_type": "execute_result"
    }
   ],
   "source": [
    "df.shape"
   ]
  },
  {
   "cell_type": "markdown",
   "id": "13ba7fe8-8706-4912-9033-f667b5a3b21a",
   "metadata": {},
   "source": [
    "Text Cleaning/ Text Preprocessing"
   ]
  },
  {
   "cell_type": "code",
   "execution_count": 61,
   "id": "f5da84a0-a528-4252-b4b9-64531673212e",
   "metadata": {},
   "outputs": [],
   "source": [
    "df['text'] = df['text'].str.lower().replace(r'^\\w\\s', ' ').replace(r'\\n', ' ', regex = True)"
   ]
  },
  {
   "cell_type": "code",
   "execution_count": 62,
   "id": "1837a577-88c2-43e7-94d1-632ab2938cf4",
   "metadata": {},
   "outputs": [
    {
     "data": {
      "text/html": [
       "<div>\n",
       "<style scoped>\n",
       "    .dataframe tbody tr th:only-of-type {\n",
       "        vertical-align: middle;\n",
       "    }\n",
       "\n",
       "    .dataframe tbody tr th {\n",
       "        vertical-align: top;\n",
       "    }\n",
       "\n",
       "    .dataframe thead th {\n",
       "        text-align: right;\n",
       "    }\n",
       "</style>\n",
       "<table border=\"1\" class=\"dataframe\">\n",
       "  <thead>\n",
       "    <tr style=\"text-align: right;\">\n",
       "      <th></th>\n",
       "      <th>artist</th>\n",
       "      <th>song</th>\n",
       "      <th>text</th>\n",
       "    </tr>\n",
       "  </thead>\n",
       "  <tbody>\n",
       "    <tr>\n",
       "      <th>4995</th>\n",
       "      <td>Foo Fighters</td>\n",
       "      <td>Drive Me Wild - Everlong Uk Single</td>\n",
       "      <td>you could be in a cadillac  \\r you could be in...</td>\n",
       "    </tr>\n",
       "    <tr>\n",
       "      <th>4996</th>\n",
       "      <td>Eddie Cochran</td>\n",
       "      <td>Milkcow Blues</td>\n",
       "      <td>well i woke up this morning, looked out the do...</td>\n",
       "    </tr>\n",
       "    <tr>\n",
       "      <th>4997</th>\n",
       "      <td>Demi Lovato</td>\n",
       "      <td>Don't Forget</td>\n",
       "      <td>did you forget  \\r that i was even alive  \\r d...</td>\n",
       "    </tr>\n",
       "    <tr>\n",
       "      <th>4998</th>\n",
       "      <td>Air Supply</td>\n",
       "      <td>I Want You</td>\n",
       "      <td>if it's love that you want, there will always ...</td>\n",
       "    </tr>\n",
       "    <tr>\n",
       "      <th>4999</th>\n",
       "      <td>Bob Dylan</td>\n",
       "      <td>Gonna Change My Way Of Thinking</td>\n",
       "      <td>gonna change my way of thinking,  \\r make myse...</td>\n",
       "    </tr>\n",
       "  </tbody>\n",
       "</table>\n",
       "</div>"
      ],
      "text/plain": [
       "             artist                                song  \\\n",
       "4995   Foo Fighters  Drive Me Wild - Everlong Uk Single   \n",
       "4996  Eddie Cochran                       Milkcow Blues   \n",
       "4997    Demi Lovato                        Don't Forget   \n",
       "4998     Air Supply                          I Want You   \n",
       "4999      Bob Dylan     Gonna Change My Way Of Thinking   \n",
       "\n",
       "                                                   text  \n",
       "4995  you could be in a cadillac  \\r you could be in...  \n",
       "4996  well i woke up this morning, looked out the do...  \n",
       "4997  did you forget  \\r that i was even alive  \\r d...  \n",
       "4998  if it's love that you want, there will always ...  \n",
       "4999  gonna change my way of thinking,  \\r make myse...  "
      ]
     },
     "execution_count": 62,
     "metadata": {},
     "output_type": "execute_result"
    }
   ],
   "source": [
    "df.tail(5)"
   ]
  },
  {
   "cell_type": "code",
   "execution_count": 63,
   "id": "bd84d1c6-00dc-4a37-8727-448710e09a4f",
   "metadata": {},
   "outputs": [],
   "source": [
    "import nltk\n",
    "from nltk.stem.porter import PorterStemmer"
   ]
  },
  {
   "cell_type": "code",
   "execution_count": 64,
   "id": "31cbca22-9c22-43a8-aa5a-d8e2c972198c",
   "metadata": {},
   "outputs": [],
   "source": [
    "stemmer = PorterStemmer()"
   ]
  },
  {
   "cell_type": "code",
   "execution_count": 65,
   "id": "711ab63b-e5aa-45ee-b896-e742df2718f8",
   "metadata": {},
   "outputs": [],
   "source": [
    "def token(txt):\n",
    "    token = nltk.word_tokenize(txt)\n",
    "    a =[stemmer.stem(w) for w in token]\n",
    "    return \" \".join(a)"
   ]
  },
  {
   "cell_type": "code",
   "execution_count": 66,
   "id": "6ffca06e-26eb-4236-b17b-efd784a1912e",
   "metadata": {},
   "outputs": [
    {
     "name": "stderr",
     "output_type": "stream",
     "text": [
      "[nltk_data] Downloading package punkt to C:\\Users\\NISHANT\n",
      "[nltk_data]     KUMAR\\AppData\\Roaming\\nltk_data...\n",
      "[nltk_data]   Package punkt is already up-to-date!\n"
     ]
    },
    {
     "data": {
      "text/plain": [
       "True"
      ]
     },
     "execution_count": 66,
     "metadata": {},
     "output_type": "execute_result"
    }
   ],
   "source": [
    "import nltk\n",
    "nltk.download('punkt')"
   ]
  },
  {
   "cell_type": "code",
   "execution_count": 67,
   "id": "33edbb34-d245-47ff-a443-b65cc37d4e87",
   "metadata": {},
   "outputs": [
    {
     "data": {
      "text/plain": [
       "'you are beauti , beauti'"
      ]
     },
     "execution_count": 67,
     "metadata": {},
     "output_type": "execute_result"
    }
   ],
   "source": [
    "token(\"you are beautiful, beauty\")"
   ]
  },
  {
   "cell_type": "code",
   "execution_count": 68,
   "id": "e2e70eea-1985-438d-ad5d-60bf4438719a",
   "metadata": {},
   "outputs": [
    {
     "data": {
      "text/plain": [
       "0       well i clung to you , like cat hair cling to a...\n",
       "1       leav me out , get away i got ta go a long way ...\n",
       "2       jimmi wa n't realli popular he had a coupl of ...\n",
       "3       you take salli and i 'll take sue there ai n't...\n",
       "4       goddamn thi dusti room thi hazi afternoon i 'm...\n",
       "                              ...                        \n",
       "4995    you could be in a cadillac you could be in con...\n",
       "4996    well i woke up thi morn , look out the door i ...\n",
       "4997    did you forget that i wa even aliv did you for...\n",
       "4998    if it 's love that you want , there will alway...\n",
       "4999    gon na chang my way of think , make myself a d...\n",
       "Name: text, Length: 5000, dtype: object"
      ]
     },
     "execution_count": 68,
     "metadata": {},
     "output_type": "execute_result"
    }
   ],
   "source": [
    "df['text'].apply(lambda x: token(x))"
   ]
  },
  {
   "cell_type": "code",
   "execution_count": 69,
   "id": "4173013f-1178-4f28-b3fb-340e8c292ea7",
   "metadata": {},
   "outputs": [],
   "source": [
    "from sklearn.feature_extraction.text import TfidfVectorizer\n",
    "from sklearn.metrics.pairwise import cosine_similarity"
   ]
  },
  {
   "cell_type": "code",
   "execution_count": 70,
   "id": "57e2aeb1-d808-4683-883b-49ecd665ca4a",
   "metadata": {},
   "outputs": [],
   "source": [
    "tfid = TfidfVectorizer(analyzer='word', stop_words='english')"
   ]
  },
  {
   "cell_type": "code",
   "execution_count": 71,
   "id": "ffee3bdd-a340-42b8-8984-1747e8887e46",
   "metadata": {},
   "outputs": [],
   "source": [
    "matrix=tfid.fit_transform(df['text'])"
   ]
  },
  {
   "cell_type": "code",
   "execution_count": 72,
   "id": "c99e9e8b-da1a-4e00-9e13-ce9e9d6d026e",
   "metadata": {},
   "outputs": [],
   "source": [
    "similer = cosine_similarity(matrix)"
   ]
  },
  {
   "cell_type": "code",
   "execution_count": 74,
   "id": "861ee0e8-5ed4-4764-9e3f-176eaf1a7db1",
   "metadata": {},
   "outputs": [
    {
     "data": {
      "text/plain": [
       "array([1.00000000e+00, 2.47134388e-03, 9.18523088e-04, ...,\n",
       "       3.73904982e-03, 2.28326742e-02, 1.44377817e-03])"
      ]
     },
     "execution_count": 74,
     "metadata": {},
     "output_type": "execute_result"
    }
   ],
   "source": [
    "similer[0]"
   ]
  },
  {
   "cell_type": "code",
   "execution_count": 78,
   "id": "61567909-8523-469e-864b-b64dd741129b",
   "metadata": {},
   "outputs": [
    {
     "data": {
      "text/plain": [
       "4996"
      ]
     },
     "execution_count": 78,
     "metadata": {},
     "output_type": "execute_result"
    }
   ],
   "source": [
    "df[df['song']=='Milkcow Blues'].index[0]"
   ]
  },
  {
   "cell_type": "markdown",
   "id": "81bf7e5b-9f2d-4415-92dd-74dac73812c0",
   "metadata": {},
   "source": [
    "Recommender Function"
   ]
  },
  {
   "cell_type": "code",
   "execution_count": null,
   "id": "395f71cb-14f9-439e-becc-0e19458c76ff",
   "metadata": {},
   "outputs": [],
   "source": [
    "def recommender(song_name):\n",
    "    idx = df[df['song']==song_name].index[0]\n",
    "    distance = sorted(list(enumerate(similer[idx])), reverse=True, key = lambda x:x[1])\n",
    "    song = []\n",
    "    for s_id in distance[1:21]:\n",
    "        song.append(df.iloc[s_id[0]].song)\n",
    "        return song\n",
    "    "
   ]
  },
  {
   "cell_type": "code",
   "execution_count": 85,
   "id": "3c71314d-f4f8-45af-8287-aa2e278fe423",
   "metadata": {},
   "outputs": [
    {
     "data": {
      "text/plain": [
       "['Wide River']"
      ]
     },
     "execution_count": 85,
     "metadata": {},
     "output_type": "execute_result"
    }
   ],
   "source": [
    "recommender(\"Life's Like A River\")"
   ]
  },
  {
   "cell_type": "code",
   "execution_count": 86,
   "id": "33424211-b476-4104-983c-cf40645b8899",
   "metadata": {},
   "outputs": [],
   "source": [
    "import pickle"
   ]
  },
  {
   "cell_type": "code",
   "execution_count": 87,
   "id": "d52ae1ee-7094-435a-993f-e2e91d97a095",
   "metadata": {},
   "outputs": [],
   "source": [
    "pickle.dump(similer, open(\"similarity\", \"wb\"))"
   ]
  },
  {
   "cell_type": "code",
   "execution_count": 88,
   "id": "d1e34940-a140-45c7-8c63-e551ff6fb17b",
   "metadata": {},
   "outputs": [],
   "source": [
    "pickle.dump(df, open(\"df\", \"wb\"))"
   ]
  },
  {
   "cell_type": "code",
   "execution_count": null,
   "id": "85eda3c6-c187-49d5-8613-6ccbf9a1aebb",
   "metadata": {},
   "outputs": [],
   "source": []
  }
 ],
 "metadata": {
  "kernelspec": {
   "display_name": "Python 3 (ipykernel)",
   "language": "python",
   "name": "python3"
  },
  "language_info": {
   "codemirror_mode": {
    "name": "ipython",
    "version": 3
   },
   "file_extension": ".py",
   "mimetype": "text/x-python",
   "name": "python",
   "nbconvert_exporter": "python",
   "pygments_lexer": "ipython3",
   "version": "3.11.5"
  }
 },
 "nbformat": 4,
 "nbformat_minor": 5
}
